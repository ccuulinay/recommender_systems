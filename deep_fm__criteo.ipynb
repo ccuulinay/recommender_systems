{
 "cells": [
  {
   "cell_type": "code",
   "execution_count": 63,
   "metadata": {},
   "outputs": [],
   "source": [
    "import pandas as pd\n",
    "import numpy as np\n",
    "import tensorflow as tf\n",
    "from sklearn.preprocessing import LabelEncoder\n",
    "from sklearn.model_selection import train_test_split"
   ]
  },
  {
   "cell_type": "code",
   "execution_count": null,
   "metadata": {},
   "outputs": [],
   "source": []
  },
  {
   "cell_type": "markdown",
   "metadata": {},
   "source": [
    "### Methods"
   ]
  },
  {
   "cell_type": "code",
   "execution_count": 15,
   "metadata": {},
   "outputs": [],
   "source": [
    "def process_dense_feats(df, cols):\n",
    "    ops_df = df[cols].fillna(0.0)\n",
    "    for c in cols:\n",
    "        ops_df[c] = ops_df[c].apply(lambda x: np.log(x+1) if x > -1 else -1)\n",
    "    return ops_df\n",
    "\n",
    "\n",
    "\n",
    "def process_sparse_feats(df, cols):\n",
    "    ops_df = df[cols].fillna(\"UNK\")\n",
    "    for c in cols:\n",
    "        ops_df[c] = LabelEncoder().fit_transform(ops_df[c])\n",
    "    return ops_df\n"
   ]
  },
  {
   "cell_type": "markdown",
   "metadata": {},
   "source": [
    "### Load data"
   ]
  },
  {
   "cell_type": "code",
   "execution_count": 16,
   "metadata": {},
   "outputs": [
    {
     "data": {
      "text/html": [
       "<div>\n",
       "<style scoped>\n",
       "    .dataframe tbody tr th:only-of-type {\n",
       "        vertical-align: middle;\n",
       "    }\n",
       "\n",
       "    .dataframe tbody tr th {\n",
       "        vertical-align: top;\n",
       "    }\n",
       "\n",
       "    .dataframe thead th {\n",
       "        text-align: right;\n",
       "    }\n",
       "</style>\n",
       "<table border=\"1\" class=\"dataframe\">\n",
       "  <thead>\n",
       "    <tr style=\"text-align: right;\">\n",
       "      <th></th>\n",
       "      <th>label</th>\n",
       "      <th>I1</th>\n",
       "      <th>I2</th>\n",
       "      <th>I3</th>\n",
       "      <th>I4</th>\n",
       "      <th>I5</th>\n",
       "      <th>I6</th>\n",
       "      <th>I7</th>\n",
       "      <th>I8</th>\n",
       "      <th>I9</th>\n",
       "      <th>...</th>\n",
       "      <th>C17</th>\n",
       "      <th>C18</th>\n",
       "      <th>C19</th>\n",
       "      <th>C20</th>\n",
       "      <th>C21</th>\n",
       "      <th>C22</th>\n",
       "      <th>C23</th>\n",
       "      <th>C24</th>\n",
       "      <th>C25</th>\n",
       "      <th>C26</th>\n",
       "    </tr>\n",
       "  </thead>\n",
       "  <tbody>\n",
       "    <tr>\n",
       "      <th>0</th>\n",
       "      <td>0</td>\n",
       "      <td>1.0</td>\n",
       "      <td>1</td>\n",
       "      <td>5.0</td>\n",
       "      <td>0.0</td>\n",
       "      <td>1382.0</td>\n",
       "      <td>4.0</td>\n",
       "      <td>15.0</td>\n",
       "      <td>2.0</td>\n",
       "      <td>181.0</td>\n",
       "      <td>...</td>\n",
       "      <td>e5ba7672</td>\n",
       "      <td>f54016b9</td>\n",
       "      <td>21ddcdc9</td>\n",
       "      <td>b1252a9d</td>\n",
       "      <td>07b5194c</td>\n",
       "      <td>NaN</td>\n",
       "      <td>3a171ecb</td>\n",
       "      <td>c5c50484</td>\n",
       "      <td>e8b83407</td>\n",
       "      <td>9727dd16</td>\n",
       "    </tr>\n",
       "    <tr>\n",
       "      <th>1</th>\n",
       "      <td>0</td>\n",
       "      <td>2.0</td>\n",
       "      <td>0</td>\n",
       "      <td>44.0</td>\n",
       "      <td>1.0</td>\n",
       "      <td>102.0</td>\n",
       "      <td>8.0</td>\n",
       "      <td>2.0</td>\n",
       "      <td>2.0</td>\n",
       "      <td>4.0</td>\n",
       "      <td>...</td>\n",
       "      <td>07c540c4</td>\n",
       "      <td>b04e4670</td>\n",
       "      <td>21ddcdc9</td>\n",
       "      <td>5840adea</td>\n",
       "      <td>60f6221e</td>\n",
       "      <td>NaN</td>\n",
       "      <td>3a171ecb</td>\n",
       "      <td>43f13e8b</td>\n",
       "      <td>e8b83407</td>\n",
       "      <td>731c3655</td>\n",
       "    </tr>\n",
       "    <tr>\n",
       "      <th>2</th>\n",
       "      <td>0</td>\n",
       "      <td>2.0</td>\n",
       "      <td>0</td>\n",
       "      <td>1.0</td>\n",
       "      <td>14.0</td>\n",
       "      <td>767.0</td>\n",
       "      <td>89.0</td>\n",
       "      <td>4.0</td>\n",
       "      <td>2.0</td>\n",
       "      <td>245.0</td>\n",
       "      <td>...</td>\n",
       "      <td>8efede7f</td>\n",
       "      <td>3412118d</td>\n",
       "      <td>NaN</td>\n",
       "      <td>NaN</td>\n",
       "      <td>e587c466</td>\n",
       "      <td>ad3062eb</td>\n",
       "      <td>3a171ecb</td>\n",
       "      <td>3b183c5c</td>\n",
       "      <td>NaN</td>\n",
       "      <td>NaN</td>\n",
       "    </tr>\n",
       "    <tr>\n",
       "      <th>3</th>\n",
       "      <td>0</td>\n",
       "      <td>NaN</td>\n",
       "      <td>893</td>\n",
       "      <td>NaN</td>\n",
       "      <td>NaN</td>\n",
       "      <td>4392.0</td>\n",
       "      <td>NaN</td>\n",
       "      <td>0.0</td>\n",
       "      <td>0.0</td>\n",
       "      <td>0.0</td>\n",
       "      <td>...</td>\n",
       "      <td>1e88c74f</td>\n",
       "      <td>74ef3502</td>\n",
       "      <td>NaN</td>\n",
       "      <td>NaN</td>\n",
       "      <td>6b3a5ca6</td>\n",
       "      <td>NaN</td>\n",
       "      <td>3a171ecb</td>\n",
       "      <td>9117a34a</td>\n",
       "      <td>NaN</td>\n",
       "      <td>NaN</td>\n",
       "    </tr>\n",
       "    <tr>\n",
       "      <th>4</th>\n",
       "      <td>0</td>\n",
       "      <td>3.0</td>\n",
       "      <td>-1</td>\n",
       "      <td>NaN</td>\n",
       "      <td>0.0</td>\n",
       "      <td>2.0</td>\n",
       "      <td>0.0</td>\n",
       "      <td>3.0</td>\n",
       "      <td>0.0</td>\n",
       "      <td>0.0</td>\n",
       "      <td>...</td>\n",
       "      <td>1e88c74f</td>\n",
       "      <td>26b3c7a7</td>\n",
       "      <td>NaN</td>\n",
       "      <td>NaN</td>\n",
       "      <td>21c9516a</td>\n",
       "      <td>NaN</td>\n",
       "      <td>32c7478e</td>\n",
       "      <td>b34f3128</td>\n",
       "      <td>NaN</td>\n",
       "      <td>NaN</td>\n",
       "    </tr>\n",
       "  </tbody>\n",
       "</table>\n",
       "<p>5 rows × 40 columns</p>\n",
       "</div>"
      ],
      "text/plain": [
       "   label   I1   I2    I3    I4      I5    I6    I7   I8     I9  ...       C17  \\\n",
       "0      0  1.0    1   5.0   0.0  1382.0   4.0  15.0  2.0  181.0  ...  e5ba7672   \n",
       "1      0  2.0    0  44.0   1.0   102.0   8.0   2.0  2.0    4.0  ...  07c540c4   \n",
       "2      0  2.0    0   1.0  14.0   767.0  89.0   4.0  2.0  245.0  ...  8efede7f   \n",
       "3      0  NaN  893   NaN   NaN  4392.0   NaN   0.0  0.0    0.0  ...  1e88c74f   \n",
       "4      0  3.0   -1   NaN   0.0     2.0   0.0   3.0  0.0    0.0  ...  1e88c74f   \n",
       "\n",
       "        C18       C19       C20       C21       C22       C23       C24  \\\n",
       "0  f54016b9  21ddcdc9  b1252a9d  07b5194c       NaN  3a171ecb  c5c50484   \n",
       "1  b04e4670  21ddcdc9  5840adea  60f6221e       NaN  3a171ecb  43f13e8b   \n",
       "2  3412118d       NaN       NaN  e587c466  ad3062eb  3a171ecb  3b183c5c   \n",
       "3  74ef3502       NaN       NaN  6b3a5ca6       NaN  3a171ecb  9117a34a   \n",
       "4  26b3c7a7       NaN       NaN  21c9516a       NaN  32c7478e  b34f3128   \n",
       "\n",
       "        C25       C26  \n",
       "0  e8b83407  9727dd16  \n",
       "1  e8b83407  731c3655  \n",
       "2       NaN       NaN  \n",
       "3       NaN       NaN  \n",
       "4       NaN       NaN  \n",
       "\n",
       "[5 rows x 40 columns]"
      ]
     },
     "execution_count": 16,
     "metadata": {},
     "output_type": "execute_result"
    }
   ],
   "source": [
    "data = pd.read_csv('./raw_data/criteo_sampled_data.csv')\n",
    "data.head()"
   ]
  },
  {
   "cell_type": "code",
   "execution_count": 17,
   "metadata": {},
   "outputs": [
    {
     "data": {
      "text/plain": [
       "Index(['label', 'I1', 'I2', 'I3', 'I4', 'I5', 'I6', 'I7', 'I8', 'I9', 'I10',\n",
       "       'I11', 'I12', 'I13', 'C1', 'C2', 'C3', 'C4', 'C5', 'C6', 'C7', 'C8',\n",
       "       'C9', 'C10', 'C11', 'C12', 'C13', 'C14', 'C15', 'C16', 'C17', 'C18',\n",
       "       'C19', 'C20', 'C21', 'C22', 'C23', 'C24', 'C25', 'C26'],\n",
       "      dtype='object')"
      ]
     },
     "execution_count": 17,
     "metadata": {},
     "output_type": "execute_result"
    }
   ],
   "source": [
    "data.columns"
   ]
  },
  {
   "cell_type": "code",
   "execution_count": 18,
   "metadata": {},
   "outputs": [],
   "source": [
    "dense_feats = [f for f in data.columns if f[0] == 'I']\n",
    "sparse_feats = [f for f in data.columns if f[0] == 'C']"
   ]
  },
  {
   "cell_type": "code",
   "execution_count": 19,
   "metadata": {},
   "outputs": [
    {
     "name": "stdout",
     "output_type": "stream",
     "text": [
      "CPU times: user 22.2 s, sys: 1.47 s, total: 23.6 s\n",
      "Wall time: 28.4 s\n"
     ]
    }
   ],
   "source": [
    "%%time\n",
    "dense_data = process_dense_feats(data, dense_feats)\n",
    "sparse_data = process_sparse_feats(data, sparse_feats)"
   ]
  },
  {
   "cell_type": "code",
   "execution_count": 20,
   "metadata": {},
   "outputs": [],
   "source": [
    "ecd_data = pd.concat([\n",
    "    dense_data,\n",
    "    sparse_data,\n",
    "    data[[\"label\"]]\n",
    "],axis=1)"
   ]
  },
  {
   "cell_type": "code",
   "execution_count": 22,
   "metadata": {},
   "outputs": [
    {
     "data": {
      "text/html": [
       "<div>\n",
       "<style scoped>\n",
       "    .dataframe tbody tr th:only-of-type {\n",
       "        vertical-align: middle;\n",
       "    }\n",
       "\n",
       "    .dataframe tbody tr th {\n",
       "        vertical-align: top;\n",
       "    }\n",
       "\n",
       "    .dataframe thead th {\n",
       "        text-align: right;\n",
       "    }\n",
       "</style>\n",
       "<table border=\"1\" class=\"dataframe\">\n",
       "  <thead>\n",
       "    <tr style=\"text-align: right;\">\n",
       "      <th></th>\n",
       "      <th>I1</th>\n",
       "      <th>I2</th>\n",
       "      <th>I3</th>\n",
       "      <th>I4</th>\n",
       "      <th>I5</th>\n",
       "      <th>I6</th>\n",
       "      <th>I7</th>\n",
       "      <th>I8</th>\n",
       "      <th>I9</th>\n",
       "      <th>I10</th>\n",
       "      <th>...</th>\n",
       "      <th>C18</th>\n",
       "      <th>C19</th>\n",
       "      <th>C20</th>\n",
       "      <th>C21</th>\n",
       "      <th>C22</th>\n",
       "      <th>C23</th>\n",
       "      <th>C24</th>\n",
       "      <th>C25</th>\n",
       "      <th>C26</th>\n",
       "      <th>label</th>\n",
       "    </tr>\n",
       "  </thead>\n",
       "  <tbody>\n",
       "    <tr>\n",
       "      <th>0</th>\n",
       "      <td>0.693147</td>\n",
       "      <td>0.693147</td>\n",
       "      <td>1.791759</td>\n",
       "      <td>0.000000</td>\n",
       "      <td>7.232010</td>\n",
       "      <td>1.609438</td>\n",
       "      <td>2.772589</td>\n",
       "      <td>1.098612</td>\n",
       "      <td>5.204007</td>\n",
       "      <td>0.693147</td>\n",
       "      <td>...</td>\n",
       "      <td>3439</td>\n",
       "      <td>212</td>\n",
       "      <td>3</td>\n",
       "      <td>4953</td>\n",
       "      <td>8</td>\n",
       "      <td>3</td>\n",
       "      <td>24768</td>\n",
       "      <td>52</td>\n",
       "      <td>14363</td>\n",
       "      <td>0</td>\n",
       "    </tr>\n",
       "    <tr>\n",
       "      <th>1</th>\n",
       "      <td>1.098612</td>\n",
       "      <td>0.000000</td>\n",
       "      <td>3.806662</td>\n",
       "      <td>0.693147</td>\n",
       "      <td>4.634729</td>\n",
       "      <td>2.197225</td>\n",
       "      <td>1.098612</td>\n",
       "      <td>1.098612</td>\n",
       "      <td>1.609438</td>\n",
       "      <td>0.693147</td>\n",
       "      <td>...</td>\n",
       "      <td>2465</td>\n",
       "      <td>212</td>\n",
       "      <td>0</td>\n",
       "      <td>60663</td>\n",
       "      <td>8</td>\n",
       "      <td>3</td>\n",
       "      <td>8431</td>\n",
       "      <td>52</td>\n",
       "      <td>10834</td>\n",
       "      <td>0</td>\n",
       "    </tr>\n",
       "    <tr>\n",
       "      <th>2</th>\n",
       "      <td>1.098612</td>\n",
       "      <td>0.000000</td>\n",
       "      <td>0.693147</td>\n",
       "      <td>2.708050</td>\n",
       "      <td>6.643790</td>\n",
       "      <td>4.499810</td>\n",
       "      <td>1.609438</td>\n",
       "      <td>1.098612</td>\n",
       "      <td>5.505332</td>\n",
       "      <td>0.693147</td>\n",
       "      <td>...</td>\n",
       "      <td>738</td>\n",
       "      <td>1097</td>\n",
       "      <td>1</td>\n",
       "      <td>143786</td>\n",
       "      <td>9</td>\n",
       "      <td>3</td>\n",
       "      <td>7343</td>\n",
       "      <td>38</td>\n",
       "      <td>15160</td>\n",
       "      <td>0</td>\n",
       "    </tr>\n",
       "    <tr>\n",
       "      <th>3</th>\n",
       "      <td>0.000000</td>\n",
       "      <td>6.795706</td>\n",
       "      <td>0.000000</td>\n",
       "      <td>0.000000</td>\n",
       "      <td>8.387768</td>\n",
       "      <td>0.000000</td>\n",
       "      <td>0.000000</td>\n",
       "      <td>0.000000</td>\n",
       "      <td>0.000000</td>\n",
       "      <td>0.000000</td>\n",
       "      <td>...</td>\n",
       "      <td>1648</td>\n",
       "      <td>1097</td>\n",
       "      <td>1</td>\n",
       "      <td>67106</td>\n",
       "      <td>8</td>\n",
       "      <td>3</td>\n",
       "      <td>18106</td>\n",
       "      <td>38</td>\n",
       "      <td>15160</td>\n",
       "      <td>0</td>\n",
       "    </tr>\n",
       "    <tr>\n",
       "      <th>4</th>\n",
       "      <td>1.386294</td>\n",
       "      <td>-1.000000</td>\n",
       "      <td>0.000000</td>\n",
       "      <td>0.000000</td>\n",
       "      <td>1.098612</td>\n",
       "      <td>0.000000</td>\n",
       "      <td>1.386294</td>\n",
       "      <td>0.000000</td>\n",
       "      <td>0.000000</td>\n",
       "      <td>0.693147</td>\n",
       "      <td>...</td>\n",
       "      <td>556</td>\n",
       "      <td>1097</td>\n",
       "      <td>1</td>\n",
       "      <td>21256</td>\n",
       "      <td>8</td>\n",
       "      <td>2</td>\n",
       "      <td>22439</td>\n",
       "      <td>38</td>\n",
       "      <td>15160</td>\n",
       "      <td>0</td>\n",
       "    </tr>\n",
       "  </tbody>\n",
       "</table>\n",
       "<p>5 rows × 40 columns</p>\n",
       "</div>"
      ],
      "text/plain": [
       "         I1        I2        I3        I4        I5        I6        I7  \\\n",
       "0  0.693147  0.693147  1.791759  0.000000  7.232010  1.609438  2.772589   \n",
       "1  1.098612  0.000000  3.806662  0.693147  4.634729  2.197225  1.098612   \n",
       "2  1.098612  0.000000  0.693147  2.708050  6.643790  4.499810  1.609438   \n",
       "3  0.000000  6.795706  0.000000  0.000000  8.387768  0.000000  0.000000   \n",
       "4  1.386294 -1.000000  0.000000  0.000000  1.098612  0.000000  1.386294   \n",
       "\n",
       "         I8        I9       I10  ...   C18   C19  C20     C21  C22  C23  \\\n",
       "0  1.098612  5.204007  0.693147  ...  3439   212    3    4953    8    3   \n",
       "1  1.098612  1.609438  0.693147  ...  2465   212    0   60663    8    3   \n",
       "2  1.098612  5.505332  0.693147  ...   738  1097    1  143786    9    3   \n",
       "3  0.000000  0.000000  0.000000  ...  1648  1097    1   67106    8    3   \n",
       "4  0.000000  0.000000  0.693147  ...   556  1097    1   21256    8    2   \n",
       "\n",
       "     C24  C25    C26  label  \n",
       "0  24768   52  14363      0  \n",
       "1   8431   52  10834      0  \n",
       "2   7343   38  15160      0  \n",
       "3  18106   38  15160      0  \n",
       "4  22439   38  15160      0  \n",
       "\n",
       "[5 rows x 40 columns]"
      ]
     },
     "execution_count": 22,
     "metadata": {},
     "output_type": "execute_result"
    }
   ],
   "source": [
    "ecd_data.head()"
   ]
  },
  {
   "cell_type": "code",
   "execution_count": null,
   "metadata": {},
   "outputs": [],
   "source": []
  },
  {
   "cell_type": "markdown",
   "metadata": {},
   "source": [
    "### Split train & test"
   ]
  },
  {
   "cell_type": "code",
   "execution_count": 167,
   "metadata": {},
   "outputs": [],
   "source": [
    "X_full = ecd_data[dense_feats+sparse_feats].copy()\n",
    "y_full = ecd_data[[\"label\"]].copy()"
   ]
  },
  {
   "cell_type": "code",
   "execution_count": 168,
   "metadata": {},
   "outputs": [],
   "source": [
    "test_ratio = 0.3\n",
    "\n",
    "X_train, X_test, y_train, y_test = train_test_split(\n",
    "    X_full, y_full,  \n",
    "    test_size=test_ratio, random_state=42\n",
    ")"
   ]
  },
  {
   "cell_type": "code",
   "execution_count": 169,
   "metadata": {},
   "outputs": [],
   "source": [
    "# X_train_dense  = X_train[dense_feats].values.T.tolist()\n",
    "# X_train_sparse = X_train[sparse_feats].values.T.tolist()\n",
    "\n",
    "# X_test_dense  = X_test[dense_feats].values.T.tolist()\n",
    "# X_test_sparse = X_test[sparse_feats].values.T.tolist()"
   ]
  },
  {
   "cell_type": "code",
   "execution_count": 170,
   "metadata": {},
   "outputs": [],
   "source": [
    "# X_train_dense.values.T"
   ]
  },
  {
   "cell_type": "code",
   "execution_count": 171,
   "metadata": {},
   "outputs": [],
   "source": [
    "train_dense_x  = [X_train[f].values for f in dense_feats]\n",
    "train_sparse_x = [X_train[f].values for f in sparse_feats]\n",
    "\n",
    "train_label = [y_train['label'].values]\n",
    "\n",
    "\n",
    "val_dense_x = [X_test[f].values for f in dense_feats]\n",
    "val_sparse_x = [X_test[f].values for f in sparse_feats]\n",
    "\n",
    "val_label = [y_test['label'].values]"
   ]
  },
  {
   "cell_type": "code",
   "execution_count": 172,
   "metadata": {},
   "outputs": [
    {
     "data": {
      "text/plain": [
       "(420000, 1)"
      ]
     },
     "execution_count": 172,
     "metadata": {},
     "output_type": "execute_result"
    }
   ],
   "source": [
    "np.shape(y_train_input)"
   ]
  },
  {
   "cell_type": "code",
   "execution_count": 211,
   "metadata": {},
   "outputs": [],
   "source": [
    "X_train_input = [X_train[f].values for f in dense_feats] + [X_train[f].values for f in sparse_feats]\n",
    "X_test_input  = [X_test[f].values for f in dense_feats] + [X_test[f].values for f in sparse_feats]\n",
    "y_train_input = y_train[\"label\"].values\n",
    "y_test_input  = y_test[\"label\"].values\n",
    "\n"
   ]
  },
  {
   "cell_type": "code",
   "execution_count": 212,
   "metadata": {},
   "outputs": [
    {
     "data": {
      "text/plain": [
       "(39, 420000)"
      ]
     },
     "execution_count": 212,
     "metadata": {},
     "output_type": "execute_result"
    }
   ],
   "source": [
    "np.shape(train_dense_x + train_sparse_x)"
   ]
  },
  {
   "cell_type": "code",
   "execution_count": 213,
   "metadata": {},
   "outputs": [
    {
     "data": {
      "text/plain": [
       "array([0, 0, 0, ..., 1, 0, 1])"
      ]
     },
     "execution_count": 213,
     "metadata": {},
     "output_type": "execute_result"
    }
   ],
   "source": [
    "y_train_input"
   ]
  },
  {
   "cell_type": "code",
   "execution_count": null,
   "metadata": {},
   "outputs": [],
   "source": []
  },
  {
   "cell_type": "markdown",
   "metadata": {},
   "source": [
    "### Embeddings "
   ]
  },
  {
   "cell_type": "markdown",
   "metadata": {},
   "source": [
    "### FM"
   ]
  },
  {
   "cell_type": "markdown",
   "metadata": {},
   "source": [
    "#### Linear part"
   ]
  },
  {
   "cell_type": "code",
   "execution_count": 90,
   "metadata": {},
   "outputs": [],
   "source": [
    "# build tf2 input for sparse features one by one\n",
    "sparse_inputs = []\n",
    "for f in sparse_feats:\n",
    "    _input = tf.keras.layers.Input([1], name=f)\n",
    "    sparse_inputs.append(_input)\n",
    "\n",
    "    \n",
    "dense_inputs = []\n",
    "for f in dense_feats:\n",
    "    _input = tf.keras.layers.Input([1], name=f)\n",
    "    dense_inputs.append(_input)"
   ]
  },
  {
   "cell_type": "code",
   "execution_count": 91,
   "metadata": {},
   "outputs": [],
   "source": [
    "# 1 dimension embedding as dense layer.\n",
    "\n",
    "sparse_1d_embed = []\n",
    "for i, _input in enumerate(sparse_inputs):\n",
    "    feat = sparse_feats[i]\n",
    "    vocab_size = ecd_data[feat].nunique() + 1\n",
    "    # 使用 l2 正则化防止过拟合\n",
    "    reg = tf.keras.regularizers.l2(0.5)\n",
    "    _embed = tf.keras.layers.Embedding(vocab_size, 1, embeddings_regularizer=reg)(_input)\n",
    "    \n",
    "    _flat = tf.keras.layers.Flatten()(_embed)\n",
    "    sparse_1d_embed.append(_flat)\n",
    "\n",
    "linear_sparse_part = tf.keras.layers.Add()(sparse_1d_embed)\n"
   ]
  },
  {
   "cell_type": "code",
   "execution_count": 92,
   "metadata": {},
   "outputs": [],
   "source": [
    "concat_dense_inputs = tf.keras.layers.Concatenate(axis=1)(dense_inputs)  # ?, 13\n",
    "linear_dense_part = tf.keras.layers.Dense(1)(concat_dense_inputs)  # ?, 1"
   ]
  },
  {
   "cell_type": "code",
   "execution_count": 93,
   "metadata": {},
   "outputs": [],
   "source": [
    "# Add up linear dense part and linear sparse part.\n",
    "linear_part = tf.keras.layers.Add()([linear_sparse_part, linear_dense_part])"
   ]
  },
  {
   "cell_type": "code",
   "execution_count": 215,
   "metadata": {},
   "outputs": [
    {
     "data": {
      "text/plain": [
       "TensorShape([None, 1])"
      ]
     },
     "execution_count": 215,
     "metadata": {},
     "output_type": "execute_result"
    }
   ],
   "source": [
    "sparse_1d_embed[0].shape"
   ]
  },
  {
   "cell_type": "markdown",
   "metadata": {},
   "source": [
    "#### Second order part"
   ]
  },
  {
   "cell_type": "code",
   "execution_count": 95,
   "metadata": {},
   "outputs": [],
   "source": [
    "# embedding size\n",
    "k = 8\n",
    "\n",
    "# 只考虑sparse的二阶交叉\n",
    "sparse_kd_embed = []\n",
    "for i, _input in enumerate(sparse_inputs):\n",
    "    feat = sparse_feats[i]\n",
    "    vocab_size = ecd_data[feat].nunique() + 1\n",
    "    reg = tf.keras.regularizers.l2(0.7)\n",
    "    _embed = tf.keras.layers.Embedding(vocab_size, k, embeddings_regularizer=reg)(_input)\n",
    "    sparse_kd_embed.append(_embed)\n"
   ]
  },
  {
   "cell_type": "code",
   "execution_count": 96,
   "metadata": {},
   "outputs": [],
   "source": [
    "# 1.将所有 sparse 特征 (?, 1, k)的embedding拼接起来，\n",
    "# 得到 (?, n, k)的矩阵，其中n为特征数，k为embedding大小\n",
    "concat_sparse_kd_embed = tf.keras.layers.Concatenate(axis=1)(sparse_kd_embed)  # ?, n, k\n",
    "\n",
    "# 2.先求和再平方\n",
    "sum_kd_embed = tf.keras.layers.Lambda(lambda x: tf.keras.backend.sum(x, axis=1))(concat_sparse_kd_embed)  # ?, k\n",
    "square_sum_kd_embed = tf.keras.layers.Multiply()([sum_kd_embed, sum_kd_embed])  # ?, k\n",
    "\n",
    "# 3.先平方再求和\n",
    "square_kd_embed = tf.keras.layers.Multiply()([concat_sparse_kd_embed, concat_sparse_kd_embed]) # ?, n, k\n",
    "sum_square_kd_embed = tf.keras.layers.Lambda(lambda x: tf.keras.backend.sum(x, axis=1))(square_kd_embed)  # ?, k\n",
    "\n",
    "# 4.相减除以2\n",
    "sub = tf.keras.layers.Subtract()([square_sum_kd_embed, sum_square_kd_embed])  # ?, k\n",
    "sub = tf.keras.layers.Lambda(lambda x: x*0.5)(sub)  # ?, k\n",
    "sec_order_part = tf.keras.layers.Lambda(lambda x: tf.keras.backend.sum(x, axis=1, keepdims=True))(sub)  # ?, 1\n"
   ]
  },
  {
   "cell_type": "code",
   "execution_count": 217,
   "metadata": {},
   "outputs": [
    {
     "data": {
      "text/plain": [
       "TensorShape([None, 26, 8])"
      ]
     },
     "execution_count": 217,
     "metadata": {},
     "output_type": "execute_result"
    }
   ],
   "source": [
    "concat_sparse_kd_embed.shape"
   ]
  },
  {
   "cell_type": "markdown",
   "metadata": {},
   "source": [
    "### DNN"
   ]
  },
  {
   "cell_type": "code",
   "execution_count": 97,
   "metadata": {},
   "outputs": [],
   "source": [
    "flatten_sparse_embed = tf.keras.layers.Flatten()(concat_sparse_kd_embed)  # ?, n*k\n",
    "fc_layer = tf.keras.layers.Dropout(0.5)(tf.keras.layers.Dense(256, activation='relu')(flatten_sparse_embed))  # ?, 256\n",
    "fc_layer = tf.keras.layers.Dropout(0.3)(tf.keras.layers.Dense(256, activation='relu')(fc_layer))  # ?, 256\n",
    "fc_layer = tf.keras.layers.Dropout(0.1)(tf.keras.layers.Dense(256, activation='relu')(fc_layer))  # ?, 256\n",
    "dnn_part = tf.keras.layers.Dense(1)(fc_layer)  # ?, 1"
   ]
  },
  {
   "cell_type": "markdown",
   "metadata": {},
   "source": [
    "### Add up"
   ]
  },
  {
   "cell_type": "code",
   "execution_count": 191,
   "metadata": {},
   "outputs": [],
   "source": [
    "output_layer = tf.keras.layers.Add()([linear_part, sec_order_part, dnn_part])\n",
    "output_layer = tf.keras.layers.Activation(\"sigmoid\")(output_layer)\n",
    "\n",
    "model = tf.keras.Model(dense_inputs+sparse_inputs, output_layer)\n",
    "model.compile(\n",
    "    optimizer=\"adam\", \n",
    "    loss=\"binary_crossentropy\", \n",
    "    metrics=[\"binary_crossentropy\", tf.keras.metrics.AUC(name='auc')]\n",
    ")\n"
   ]
  },
  {
   "cell_type": "code",
   "execution_count": 192,
   "metadata": {},
   "outputs": [
    {
     "name": "stdout",
     "output_type": "stream",
     "text": [
      "Model: \"functional_7\"\n",
      "__________________________________________________________________________________________________\n",
      "Layer (type)                    Output Shape         Param #     Connected to                     \n",
      "==================================================================================================\n",
      "C1 (InputLayer)                 [(None, 1)]          0                                            \n",
      "__________________________________________________________________________________________________\n",
      "C2 (InputLayer)                 [(None, 1)]          0                                            \n",
      "__________________________________________________________________________________________________\n",
      "C3 (InputLayer)                 [(None, 1)]          0                                            \n",
      "__________________________________________________________________________________________________\n",
      "C4 (InputLayer)                 [(None, 1)]          0                                            \n",
      "__________________________________________________________________________________________________\n",
      "C5 (InputLayer)                 [(None, 1)]          0                                            \n",
      "__________________________________________________________________________________________________\n",
      "C6 (InputLayer)                 [(None, 1)]          0                                            \n",
      "__________________________________________________________________________________________________\n",
      "C7 (InputLayer)                 [(None, 1)]          0                                            \n",
      "__________________________________________________________________________________________________\n",
      "C8 (InputLayer)                 [(None, 1)]          0                                            \n",
      "__________________________________________________________________________________________________\n",
      "C9 (InputLayer)                 [(None, 1)]          0                                            \n",
      "__________________________________________________________________________________________________\n",
      "C10 (InputLayer)                [(None, 1)]          0                                            \n",
      "__________________________________________________________________________________________________\n",
      "C11 (InputLayer)                [(None, 1)]          0                                            \n",
      "__________________________________________________________________________________________________\n",
      "C12 (InputLayer)                [(None, 1)]          0                                            \n",
      "__________________________________________________________________________________________________\n",
      "C13 (InputLayer)                [(None, 1)]          0                                            \n",
      "__________________________________________________________________________________________________\n",
      "C14 (InputLayer)                [(None, 1)]          0                                            \n",
      "__________________________________________________________________________________________________\n",
      "C15 (InputLayer)                [(None, 1)]          0                                            \n",
      "__________________________________________________________________________________________________\n",
      "C16 (InputLayer)                [(None, 1)]          0                                            \n",
      "__________________________________________________________________________________________________\n",
      "C17 (InputLayer)                [(None, 1)]          0                                            \n",
      "__________________________________________________________________________________________________\n",
      "C18 (InputLayer)                [(None, 1)]          0                                            \n",
      "__________________________________________________________________________________________________\n",
      "C19 (InputLayer)                [(None, 1)]          0                                            \n",
      "__________________________________________________________________________________________________\n",
      "C20 (InputLayer)                [(None, 1)]          0                                            \n",
      "__________________________________________________________________________________________________\n",
      "C21 (InputLayer)                [(None, 1)]          0                                            \n",
      "__________________________________________________________________________________________________\n",
      "C22 (InputLayer)                [(None, 1)]          0                                            \n",
      "__________________________________________________________________________________________________\n",
      "C23 (InputLayer)                [(None, 1)]          0                                            \n",
      "__________________________________________________________________________________________________\n",
      "C24 (InputLayer)                [(None, 1)]          0                                            \n",
      "__________________________________________________________________________________________________\n",
      "C25 (InputLayer)                [(None, 1)]          0                                            \n",
      "__________________________________________________________________________________________________\n",
      "C26 (InputLayer)                [(None, 1)]          0                                            \n",
      "__________________________________________________________________________________________________\n",
      "embedding_132 (Embedding)       (None, 1, 8)         8728        C1[0][0]                         \n",
      "__________________________________________________________________________________________________\n",
      "embedding_133 (Embedding)       (None, 1, 8)         4224        C2[0][0]                         \n",
      "__________________________________________________________________________________________________\n",
      "embedding_134 (Embedding)       (None, 1, 8)         1660640     C3[0][0]                         \n",
      "__________________________________________________________________________________________________\n",
      "embedding_135 (Embedding)       (None, 1, 8)         687296      C4[0][0]                         \n",
      "__________________________________________________________________________________________________\n",
      "embedding_136 (Embedding)       (None, 1, 8)         1976        C5[0][0]                         \n",
      "__________________________________________________________________________________________________\n",
      "embedding_137 (Embedding)       (None, 1, 8)         120         C6[0][0]                         \n",
      "__________________________________________________________________________________________________\n",
      "embedding_138 (Embedding)       (None, 1, 8)         82872       C7[0][0]                         \n",
      "__________________________________________________________________________________________________\n",
      "embedding_139 (Embedding)       (None, 1, 8)         4104        C8[0][0]                         \n",
      "__________________________________________________________________________________________________\n",
      "embedding_140 (Embedding)       (None, 1, 8)         32          C9[0][0]                         \n",
      "__________________________________________________________________________________________________\n",
      "embedding_141 (Embedding)       (None, 1, 8)         201440      C10[0][0]                        \n",
      "__________________________________________________________________________________________________\n",
      "embedding_142 (Embedding)       (None, 1, 8)         36456       C11[0][0]                        \n",
      "__________________________________________________________________________________________________\n",
      "embedding_143 (Embedding)       (None, 1, 8)         1417240     C12[0][0]                        \n",
      "__________________________________________________________________________________________________\n",
      "embedding_144 (Embedding)       (None, 1, 8)         24336       C13[0][0]                        \n",
      "__________________________________________________________________________________________________\n",
      "embedding_145 (Embedding)       (None, 1, 8)         216         C14[0][0]                        \n",
      "__________________________________________________________________________________________________\n",
      "embedding_146 (Embedding)       (None, 1, 8)         65088       C15[0][0]                        \n",
      "__________________________________________________________________________________________________\n",
      "embedding_147 (Embedding)       (None, 1, 8)         1112032     C16[0][0]                        \n",
      "__________________________________________________________________________________________________\n",
      "embedding_148 (Embedding)       (None, 1, 8)         88          C17[0][0]                        \n",
      "__________________________________________________________________________________________________\n",
      "embedding_149 (Embedding)       (None, 1, 8)         28920       C18[0][0]                        \n",
      "__________________________________________________________________________________________________\n",
      "embedding_150 (Embedding)       (None, 1, 8)         14000       C19[0][0]                        \n",
      "__________________________________________________________________________________________________\n",
      "embedding_151 (Embedding)       (None, 1, 8)         40          C20[0][0]                        \n",
      "__________________________________________________________________________________________________\n",
      "embedding_152 (Embedding)       (None, 1, 8)         1282824     C21[0][0]                        \n",
      "__________________________________________________________________________________________________\n",
      "embedding_153 (Embedding)       (None, 1, 8)         128         C22[0][0]                        \n",
      "__________________________________________________________________________________________________\n",
      "embedding_154 (Embedding)       (None, 1, 8)         128         C23[0][0]                        \n",
      "__________________________________________________________________________________________________\n",
      "embedding_155 (Embedding)       (None, 1, 8)         256776      C24[0][0]                        \n",
      "__________________________________________________________________________________________________\n",
      "embedding_156 (Embedding)       (None, 1, 8)         520         C25[0][0]                        \n",
      "__________________________________________________________________________________________________\n",
      "embedding_157 (Embedding)       (None, 1, 8)         195456      C26[0][0]                        \n",
      "__________________________________________________________________________________________________\n",
      "concatenate_12 (Concatenate)    (None, 26, 8)        0           embedding_132[0][0]              \n",
      "                                                                 embedding_133[0][0]              \n",
      "                                                                 embedding_134[0][0]              \n",
      "                                                                 embedding_135[0][0]              \n",
      "                                                                 embedding_136[0][0]              \n",
      "                                                                 embedding_137[0][0]              \n",
      "                                                                 embedding_138[0][0]              \n",
      "                                                                 embedding_139[0][0]              \n",
      "                                                                 embedding_140[0][0]              \n",
      "                                                                 embedding_141[0][0]              \n",
      "                                                                 embedding_142[0][0]              \n",
      "                                                                 embedding_143[0][0]              \n",
      "                                                                 embedding_144[0][0]              \n",
      "                                                                 embedding_145[0][0]              \n",
      "                                                                 embedding_146[0][0]              \n",
      "                                                                 embedding_147[0][0]              \n",
      "                                                                 embedding_148[0][0]              \n",
      "                                                                 embedding_149[0][0]              \n",
      "                                                                 embedding_150[0][0]              \n",
      "                                                                 embedding_151[0][0]              \n",
      "                                                                 embedding_152[0][0]              \n",
      "                                                                 embedding_153[0][0]              \n",
      "                                                                 embedding_154[0][0]              \n",
      "                                                                 embedding_155[0][0]              \n",
      "                                                                 embedding_156[0][0]              \n",
      "                                                                 embedding_157[0][0]              \n",
      "__________________________________________________________________________________________________\n",
      "flatten_107 (Flatten)           (None, 208)          0           concatenate_12[0][0]             \n",
      "__________________________________________________________________________________________________\n",
      "dense_12 (Dense)                (None, 256)          53504       flatten_107[0][0]                \n",
      "__________________________________________________________________________________________________\n",
      "dropout_7 (Dropout)             (None, 256)          0           dense_12[0][0]                   \n",
      "__________________________________________________________________________________________________\n",
      "lambda_11 (Lambda)              (None, 8)            0           concatenate_12[0][0]             \n",
      "__________________________________________________________________________________________________\n",
      "multiply_7 (Multiply)           (None, 26, 8)        0           concatenate_12[0][0]             \n",
      "                                                                 concatenate_12[0][0]             \n",
      "__________________________________________________________________________________________________\n",
      "dense_13 (Dense)                (None, 256)          65792       dropout_7[0][0]                  \n",
      "__________________________________________________________________________________________________\n",
      "embedding_106 (Embedding)       (None, 1, 1)         1091        C1[0][0]                         \n",
      "__________________________________________________________________________________________________\n",
      "embedding_107 (Embedding)       (None, 1, 1)         528         C2[0][0]                         \n",
      "__________________________________________________________________________________________________\n",
      "embedding_108 (Embedding)       (None, 1, 1)         207580      C3[0][0]                         \n",
      "__________________________________________________________________________________________________\n",
      "embedding_109 (Embedding)       (None, 1, 1)         85912       C4[0][0]                         \n",
      "__________________________________________________________________________________________________\n",
      "embedding_110 (Embedding)       (None, 1, 1)         247         C5[0][0]                         \n",
      "__________________________________________________________________________________________________\n",
      "embedding_111 (Embedding)       (None, 1, 1)         15          C6[0][0]                         \n",
      "__________________________________________________________________________________________________\n",
      "embedding_112 (Embedding)       (None, 1, 1)         10359       C7[0][0]                         \n",
      "__________________________________________________________________________________________________\n",
      "embedding_113 (Embedding)       (None, 1, 1)         513         C8[0][0]                         \n",
      "__________________________________________________________________________________________________\n",
      "embedding_114 (Embedding)       (None, 1, 1)         4           C9[0][0]                         \n",
      "__________________________________________________________________________________________________\n",
      "embedding_115 (Embedding)       (None, 1, 1)         25180       C10[0][0]                        \n",
      "__________________________________________________________________________________________________\n",
      "embedding_116 (Embedding)       (None, 1, 1)         4557        C11[0][0]                        \n",
      "__________________________________________________________________________________________________\n",
      "embedding_117 (Embedding)       (None, 1, 1)         177155      C12[0][0]                        \n",
      "__________________________________________________________________________________________________\n",
      "embedding_118 (Embedding)       (None, 1, 1)         3042        C13[0][0]                        \n",
      "__________________________________________________________________________________________________\n",
      "embedding_119 (Embedding)       (None, 1, 1)         27          C14[0][0]                        \n",
      "__________________________________________________________________________________________________\n",
      "embedding_120 (Embedding)       (None, 1, 1)         8136        C15[0][0]                        \n",
      "__________________________________________________________________________________________________\n",
      "embedding_121 (Embedding)       (None, 1, 1)         139004      C16[0][0]                        \n",
      "__________________________________________________________________________________________________\n",
      "embedding_122 (Embedding)       (None, 1, 1)         11          C17[0][0]                        \n",
      "__________________________________________________________________________________________________\n",
      "embedding_123 (Embedding)       (None, 1, 1)         3615        C18[0][0]                        \n",
      "__________________________________________________________________________________________________\n",
      "embedding_124 (Embedding)       (None, 1, 1)         1750        C19[0][0]                        \n",
      "__________________________________________________________________________________________________\n",
      "embedding_125 (Embedding)       (None, 1, 1)         5           C20[0][0]                        \n",
      "__________________________________________________________________________________________________\n",
      "embedding_126 (Embedding)       (None, 1, 1)         160353      C21[0][0]                        \n",
      "__________________________________________________________________________________________________\n",
      "embedding_127 (Embedding)       (None, 1, 1)         16          C22[0][0]                        \n",
      "__________________________________________________________________________________________________\n",
      "embedding_128 (Embedding)       (None, 1, 1)         16          C23[0][0]                        \n",
      "__________________________________________________________________________________________________\n",
      "embedding_129 (Embedding)       (None, 1, 1)         32097       C24[0][0]                        \n",
      "__________________________________________________________________________________________________\n",
      "embedding_130 (Embedding)       (None, 1, 1)         65          C25[0][0]                        \n",
      "__________________________________________________________________________________________________\n",
      "embedding_131 (Embedding)       (None, 1, 1)         24432       C26[0][0]                        \n",
      "__________________________________________________________________________________________________\n",
      "I1 (InputLayer)                 [(None, 1)]          0                                            \n",
      "__________________________________________________________________________________________________\n",
      "I2 (InputLayer)                 [(None, 1)]          0                                            \n",
      "__________________________________________________________________________________________________\n",
      "I3 (InputLayer)                 [(None, 1)]          0                                            \n",
      "__________________________________________________________________________________________________\n",
      "I4 (InputLayer)                 [(None, 1)]          0                                            \n",
      "__________________________________________________________________________________________________\n",
      "I5 (InputLayer)                 [(None, 1)]          0                                            \n",
      "__________________________________________________________________________________________________\n",
      "I6 (InputLayer)                 [(None, 1)]          0                                            \n",
      "__________________________________________________________________________________________________\n",
      "I7 (InputLayer)                 [(None, 1)]          0                                            \n",
      "__________________________________________________________________________________________________\n",
      "I8 (InputLayer)                 [(None, 1)]          0                                            \n",
      "__________________________________________________________________________________________________\n",
      "I9 (InputLayer)                 [(None, 1)]          0                                            \n",
      "__________________________________________________________________________________________________\n",
      "I10 (InputLayer)                [(None, 1)]          0                                            \n",
      "__________________________________________________________________________________________________\n",
      "I11 (InputLayer)                [(None, 1)]          0                                            \n",
      "__________________________________________________________________________________________________\n",
      "I12 (InputLayer)                [(None, 1)]          0                                            \n",
      "__________________________________________________________________________________________________\n",
      "I13 (InputLayer)                [(None, 1)]          0                                            \n",
      "__________________________________________________________________________________________________\n",
      "multiply_6 (Multiply)           (None, 8)            0           lambda_11[0][0]                  \n",
      "                                                                 lambda_11[0][0]                  \n",
      "__________________________________________________________________________________________________\n",
      "lambda_12 (Lambda)              (None, 8)            0           multiply_7[0][0]                 \n",
      "__________________________________________________________________________________________________\n",
      "dropout_8 (Dropout)             (None, 256)          0           dense_13[0][0]                   \n",
      "__________________________________________________________________________________________________\n",
      "flatten_81 (Flatten)            (None, 1)            0           embedding_106[0][0]              \n",
      "__________________________________________________________________________________________________\n",
      "flatten_82 (Flatten)            (None, 1)            0           embedding_107[0][0]              \n",
      "__________________________________________________________________________________________________\n",
      "flatten_83 (Flatten)            (None, 1)            0           embedding_108[0][0]              \n",
      "__________________________________________________________________________________________________\n",
      "flatten_84 (Flatten)            (None, 1)            0           embedding_109[0][0]              \n",
      "__________________________________________________________________________________________________\n",
      "flatten_85 (Flatten)            (None, 1)            0           embedding_110[0][0]              \n",
      "__________________________________________________________________________________________________\n",
      "flatten_86 (Flatten)            (None, 1)            0           embedding_111[0][0]              \n",
      "__________________________________________________________________________________________________\n",
      "flatten_87 (Flatten)            (None, 1)            0           embedding_112[0][0]              \n",
      "__________________________________________________________________________________________________\n",
      "flatten_88 (Flatten)            (None, 1)            0           embedding_113[0][0]              \n",
      "__________________________________________________________________________________________________\n",
      "flatten_89 (Flatten)            (None, 1)            0           embedding_114[0][0]              \n",
      "__________________________________________________________________________________________________\n",
      "flatten_90 (Flatten)            (None, 1)            0           embedding_115[0][0]              \n",
      "__________________________________________________________________________________________________\n",
      "flatten_91 (Flatten)            (None, 1)            0           embedding_116[0][0]              \n",
      "__________________________________________________________________________________________________\n",
      "flatten_92 (Flatten)            (None, 1)            0           embedding_117[0][0]              \n",
      "__________________________________________________________________________________________________\n",
      "flatten_93 (Flatten)            (None, 1)            0           embedding_118[0][0]              \n",
      "__________________________________________________________________________________________________\n",
      "flatten_94 (Flatten)            (None, 1)            0           embedding_119[0][0]              \n",
      "__________________________________________________________________________________________________\n",
      "flatten_95 (Flatten)            (None, 1)            0           embedding_120[0][0]              \n",
      "__________________________________________________________________________________________________\n",
      "flatten_96 (Flatten)            (None, 1)            0           embedding_121[0][0]              \n",
      "__________________________________________________________________________________________________\n",
      "flatten_97 (Flatten)            (None, 1)            0           embedding_122[0][0]              \n",
      "__________________________________________________________________________________________________\n",
      "flatten_98 (Flatten)            (None, 1)            0           embedding_123[0][0]              \n",
      "__________________________________________________________________________________________________\n",
      "flatten_99 (Flatten)            (None, 1)            0           embedding_124[0][0]              \n",
      "__________________________________________________________________________________________________\n",
      "flatten_100 (Flatten)           (None, 1)            0           embedding_125[0][0]              \n",
      "__________________________________________________________________________________________________\n",
      "flatten_101 (Flatten)           (None, 1)            0           embedding_126[0][0]              \n",
      "__________________________________________________________________________________________________\n",
      "flatten_102 (Flatten)           (None, 1)            0           embedding_127[0][0]              \n",
      "__________________________________________________________________________________________________\n",
      "flatten_103 (Flatten)           (None, 1)            0           embedding_128[0][0]              \n",
      "__________________________________________________________________________________________________\n",
      "flatten_104 (Flatten)           (None, 1)            0           embedding_129[0][0]              \n",
      "__________________________________________________________________________________________________\n",
      "flatten_105 (Flatten)           (None, 1)            0           embedding_130[0][0]              \n",
      "__________________________________________________________________________________________________\n",
      "flatten_106 (Flatten)           (None, 1)            0           embedding_131[0][0]              \n",
      "__________________________________________________________________________________________________\n",
      "concatenate_11 (Concatenate)    (None, 13)           0           I1[0][0]                         \n",
      "                                                                 I2[0][0]                         \n",
      "                                                                 I3[0][0]                         \n",
      "                                                                 I4[0][0]                         \n",
      "                                                                 I5[0][0]                         \n",
      "                                                                 I6[0][0]                         \n",
      "                                                                 I7[0][0]                         \n",
      "                                                                 I8[0][0]                         \n",
      "                                                                 I9[0][0]                         \n",
      "                                                                 I10[0][0]                        \n",
      "                                                                 I11[0][0]                        \n",
      "                                                                 I12[0][0]                        \n",
      "                                                                 I13[0][0]                        \n",
      "__________________________________________________________________________________________________\n",
      "subtract_2 (Subtract)           (None, 8)            0           multiply_6[0][0]                 \n",
      "                                                                 lambda_12[0][0]                  \n",
      "__________________________________________________________________________________________________\n",
      "dense_14 (Dense)                (None, 256)          65792       dropout_8[0][0]                  \n",
      "__________________________________________________________________________________________________\n",
      "add_6 (Add)                     (None, 1)            0           flatten_81[0][0]                 \n",
      "                                                                 flatten_82[0][0]                 \n",
      "                                                                 flatten_83[0][0]                 \n",
      "                                                                 flatten_84[0][0]                 \n",
      "                                                                 flatten_85[0][0]                 \n",
      "                                                                 flatten_86[0][0]                 \n",
      "                                                                 flatten_87[0][0]                 \n",
      "                                                                 flatten_88[0][0]                 \n",
      "                                                                 flatten_89[0][0]                 \n",
      "                                                                 flatten_90[0][0]                 \n",
      "                                                                 flatten_91[0][0]                 \n",
      "                                                                 flatten_92[0][0]                 \n",
      "                                                                 flatten_93[0][0]                 \n",
      "                                                                 flatten_94[0][0]                 \n",
      "                                                                 flatten_95[0][0]                 \n",
      "                                                                 flatten_96[0][0]                 \n",
      "                                                                 flatten_97[0][0]                 \n",
      "                                                                 flatten_98[0][0]                 \n",
      "                                                                 flatten_99[0][0]                 \n",
      "                                                                 flatten_100[0][0]                \n",
      "                                                                 flatten_101[0][0]                \n",
      "                                                                 flatten_102[0][0]                \n",
      "                                                                 flatten_103[0][0]                \n",
      "                                                                 flatten_104[0][0]                \n",
      "                                                                 flatten_105[0][0]                \n",
      "                                                                 flatten_106[0][0]                \n",
      "__________________________________________________________________________________________________\n",
      "dense_11 (Dense)                (None, 1)            14          concatenate_11[0][0]             \n",
      "__________________________________________________________________________________________________\n",
      "lambda_13 (Lambda)              (None, 8)            0           subtract_2[0][0]                 \n",
      "__________________________________________________________________________________________________\n",
      "dropout_9 (Dropout)             (None, 256)          0           dense_14[0][0]                   \n",
      "__________________________________________________________________________________________________\n",
      "add_7 (Add)                     (None, 1)            0           add_6[0][0]                      \n",
      "                                                                 dense_11[0][0]                   \n",
      "__________________________________________________________________________________________________\n",
      "lambda_14 (Lambda)              (None, 1)            0           lambda_13[0][0]                  \n",
      "__________________________________________________________________________________________________\n",
      "dense_15 (Dense)                (None, 1)            257         dropout_9[0][0]                  \n",
      "__________________________________________________________________________________________________\n",
      "add_10 (Add)                    (None, 1)            0           add_7[0][0]                      \n",
      "                                                                 lambda_14[0][0]                  \n",
      "                                                                 dense_15[0][0]                   \n",
      "__________________________________________________________________________________________________\n",
      "activation_4 (Activation)       (None, 1)            0           add_10[0][0]                     \n",
      "==================================================================================================\n",
      "Total params: 8,156,749\n",
      "Trainable params: 8,156,749\n",
      "Non-trainable params: 0\n",
      "__________________________________________________________________________________________________\n"
     ]
    }
   ],
   "source": [
    "model.summary()"
   ]
  },
  {
   "cell_type": "code",
   "execution_count": 193,
   "metadata": {},
   "outputs": [],
   "source": [
    "# tf.keras.utils.plot_model(model, show_shapes=True)"
   ]
  },
  {
   "cell_type": "code",
   "execution_count": null,
   "metadata": {},
   "outputs": [],
   "source": []
  },
  {
   "cell_type": "code",
   "execution_count": null,
   "metadata": {},
   "outputs": [],
   "source": []
  },
  {
   "cell_type": "markdown",
   "metadata": {},
   "source": [
    "### Fitting"
   ]
  },
  {
   "cell_type": "code",
   "execution_count": 194,
   "metadata": {},
   "outputs": [],
   "source": [
    "EPOCHS = 5\n",
    "BATCH_SIZE = 32"
   ]
  },
  {
   "cell_type": "code",
   "execution_count": 214,
   "metadata": {},
   "outputs": [
    {
     "name": "stdout",
     "output_type": "stream",
     "text": [
      "Epoch 1/5\n"
     ]
    },
    {
     "name": "stderr",
     "output_type": "stream",
     "text": [
      "/Users/ccuulinay/anaconda3/lib/python3.7/site-packages/tensorflow/python/framework/indexed_slices.py:433: UserWarning: Converting sparse IndexedSlices to a dense Tensor of unknown shape. This may consume a large amount of memory.\n",
      "  \"Converting sparse IndexedSlices to a dense Tensor of unknown shape. \"\n"
     ]
    },
    {
     "name": "stdout",
     "output_type": "stream",
     "text": [
      "13125/13125 [==============================] - 2768s 211ms/step - loss: 0.6303 - binary_crossentropy: 0.5099 - auc: 0.7201 - val_loss: 0.6269 - val_binary_crossentropy: 0.5068 - val_auc: 0.7247\n",
      "Epoch 2/5\n",
      "13125/13125 [==============================] - 926s 71ms/step - loss: 0.6316 - binary_crossentropy: 0.5048 - auc: 0.7280 - val_loss: 0.6218 - val_binary_crossentropy: 0.5032 - val_auc: 0.7298\n",
      "Epoch 3/5\n",
      "13125/13125 [==============================] - 921s 70ms/step - loss: 0.6344 - binary_crossentropy: 0.5044 - auc: 0.7286 - val_loss: 0.6273 - val_binary_crossentropy: 0.5028 - val_auc: 0.7332\n",
      "Epoch 4/5\n",
      "13125/13125 [==============================] - 873s 67ms/step - loss: 0.6373 - binary_crossentropy: 0.5038 - auc: 0.7293 - val_loss: 0.6144 - val_binary_crossentropy: 0.5031 - val_auc: 0.7328\n",
      "Epoch 5/5\n",
      "13125/13125 [==============================] - 871s 66ms/step - loss: 0.6408 - binary_crossentropy: 0.5039 - auc: 0.7293 - val_loss: 0.6230 - val_binary_crossentropy: 0.5036 - val_auc: 0.7329\n"
     ]
    },
    {
     "data": {
      "text/plain": [
       "<tensorflow.python.keras.callbacks.History at 0x7ff0096476d0>"
      ]
     },
     "execution_count": 214,
     "metadata": {},
     "output_type": "execute_result"
    }
   ],
   "source": [
    "model.fit(\n",
    "\n",
    "    X_train_input,\n",
    "    y_train_input,\n",
    "    # train_dense_x+train_sparse_x, train_label,\n",
    "    epochs=EPOCHS, \n",
    "    batch_size=BATCH_SIZE,\n",
    "    validation_data=(X_test_input, y_test_input),\n",
    "    # validation_data=(val_dense_x+val_sparse_x, val_label),\n",
    "    verbose=1\n",
    ")"
   ]
  },
  {
   "cell_type": "code",
   "execution_count": null,
   "metadata": {},
   "outputs": [],
   "source": []
  },
  {
   "cell_type": "code",
   "execution_count": null,
   "metadata": {},
   "outputs": [],
   "source": []
  },
  {
   "cell_type": "code",
   "execution_count": null,
   "metadata": {},
   "outputs": [],
   "source": []
  }
 ],
 "metadata": {
  "kernelspec": {
   "display_name": "Python 3",
   "language": "python",
   "name": "python3"
  },
  "language_info": {
   "codemirror_mode": {
    "name": "ipython",
    "version": 3
   },
   "file_extension": ".py",
   "mimetype": "text/x-python",
   "name": "python",
   "nbconvert_exporter": "python",
   "pygments_lexer": "ipython3",
   "version": "3.7.6"
  }
 },
 "nbformat": 4,
 "nbformat_minor": 4
}
